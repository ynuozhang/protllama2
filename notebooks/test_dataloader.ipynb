{
 "cells": [
  {
   "cell_type": "code",
   "execution_count": null,
   "metadata": {
    "collapsed": true
   },
   "outputs": [],
   "source": [
    "import pickle\n",
    "from torch.utils.data import DataLoader\n",
    "from datasets import Dataset, load_from_disk"
   ]
  },
  {
   "cell_type": "code",
   "execution_count": null,
   "outputs": [],
   "source": [
    "with open('/data/rozen/home/e0833634/lama/protllama/batch_script/train_intermediate_checkpoint_1000000.pkl', 'rb') as f:\n",
    "    tokenized_sequences, batch_indices = pickle.load(f)"
   ],
   "metadata": {
    "collapsed": false,
    "pycharm": {
     "name": "#%%\n"
    }
   }
  },
  {
   "cell_type": "code",
   "execution_count": null,
   "outputs": [],
   "source": [
    "all_attention_masks = []\n",
    "all_input_ids = []\n",
    "all_labels = []\n",
    "with open('/data/rozen/home/e0833634/lama/protllama/batch_script/train_intermediate_processed_dataset_1000000.pkl',\n",
    "          'rb') as f:\n",
    "    dataset = pickle.load(f)\n",
    "    all_attention_masks.extend([batch['attention_mask'] for batch in dataset])\n",
    "    all_input_ids.extend([batch['input_ids'] for batch in dataset])\n",
    "    all_labels.extend([batch['labels'] for batch in dataset])\n",
    "combined_dataset = Dataset.from_dict({\n",
    "    'attention_mask': all_attention_masks,\n",
    "    'input_ids': all_input_ids,\n",
    "    'labels': all_labels\n",
    "})\n",
    "combined_dataset"
   ],
   "metadata": {
    "collapsed": false,
    "pycharm": {
     "name": "#%%\n"
    }
   }
  },
  {
   "cell_type": "code",
   "execution_count": null,
   "outputs": [],
   "source": [
    "combined_dataset.save_to_disk('first_1million_dataset.hf')"
   ],
   "metadata": {
    "collapsed": false,
    "pycharm": {
     "name": "#%%\n"
    }
   }
  },
  {
   "cell_type": "code",
   "execution_count": null,
   "outputs": [],
   "source": [
    "combined_dataset = load_from_disk('first_1million_dataset.hf')"
   ],
   "metadata": {
    "collapsed": false,
    "pycharm": {
     "name": "#%%\n"
    }
   }
  },
  {
   "cell_type": "code",
   "execution_count": null,
   "outputs": [],
   "source": [
    "dataloader = DataLoader(combined_dataset, batch_sampler=batch_indices, pin_memory=True)"
   ],
   "metadata": {
    "collapsed": false,
    "pycharm": {
     "name": "#%%\n"
    }
   }
  }
 ],
 "metadata": {
  "kernelspec": {
   "display_name": "Python 3",
   "language": "python",
   "name": "python3"
  },
  "language_info": {
   "codemirror_mode": {
    "name": "ipython",
    "version": 2
   },
   "file_extension": ".py",
   "mimetype": "text/x-python",
   "name": "python",
   "nbconvert_exporter": "python",
   "pygments_lexer": "ipython2",
   "version": "2.7.6"
  }
 },
 "nbformat": 4,
 "nbformat_minor": 0
}